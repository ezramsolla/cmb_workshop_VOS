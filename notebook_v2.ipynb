{
 "cells": [
  {
   "cell_type": "code",
   "execution_count": 1,
   "metadata": {},
   "outputs": [],
   "source": [
    "import numpy as np\n",
    "\n",
    "%matplotlib inline\n",
    "%reload_ext autoreload\n",
    "%autoreload 2\n",
    "\n",
    "from cmb import layout, plot, tester, widgets\n",
    "\n",
    "layout.set_custom_layout()\n",
    "\n",
    "# FIXME: remove temporary import\n",
    "from cmb import functions"
   ]
  },
  {
   "cell_type": "markdown",
   "metadata": {},
   "source": [
    "# CMB Workshop\n",
    "\n",
    "## Activity Overview\n",
    "\n",
    "In this workshop, you will learn about the CMB and its significance in cosmology. You'll start by understanding some basic physics concepts, like blackbody radiation and Wien's Law. Then, you'll explore how scientists study the CMB using real data from space missions. You'll also get hands-on experience with Python programming to analyze and visualize this data.\n",
    "\n",
    "By the end of this workshop, you'll have a better understanding of the early universe and the tools scientists use to study it. Let's get started!\n",
    "\n",
    "### Learning Goals\n",
    "\n",
    "By the end of this notebook, you should be able to:\n",
    "\n",
    "1. **Basics of the Cosmic Microwave Background (CMB):**\n",
    "   - Describe what the CMB is and why it’s important.\n",
    "   - Explain how the CMB was formed.\n",
    "\n",
    "2. **Blackbody Radiation:**\n",
    "   - Define blackbody radiation.\n",
    "   - Use Planck's Law to calculate radiation.\n",
    "   - Explain Wien's Law and its relation to temperature.\n",
    "\n",
    "3. **Astronomical Data Analysis:**\n",
    "   - Create and interpret blackbody radiation graphs.\n",
    "   - Analyze data from the COBE satellite.\n",
    "\n",
    "4. **Doppler Effect and Universe Expansion:**\n",
    "   - Explain the Doppler effect.\n",
    "   - Understand redshift and its evidence for the expanding universe.\n",
    "\n",
    "5. **Working with Real CMB Data:**\n",
    "   - Load and visualize CMB maps.\n",
    "   - Compute and understand temperature fluctuations in the CMB.\n",
    "   - Identify features in CMB maps.\n",
    "\n",
    "6. **Python Programming Skills (Optional Challenge):**\n",
    "   - Write Python functions for physics equations.\n",
    "   - Use Python for data visualization and analysis."
   ]
  },
  {
   "cell_type": "markdown",
   "metadata": {},
   "source": [
    "## Introduction\n",
    "\n",
    "### The Cosmic Microwave Background (CMB)\n",
    "\n",
    "The Cosmic Microwave Background (CMB) is the afterglow of the Big Bang, the event that created our universe around 13.8 billion years ago. This faint glow fills the entire sky and is one of the most important pieces of evidence for the Big Bang theory. It tells us about the early universe when it was just a hot, dense soup of particles.\n",
    "\n",
    "#### What is the CMB?\n",
    "\n",
    "The CMB is a form of electromagnetic radiation, just like visible light, but it is in the microwave part of the spectrum. It was created when the universe was only 379,000 years old and has been traveling through space ever since. By studying the CMB, scientists can learn about the conditions of the early universe and how it has evolved over time.\n",
    "\n",
    "#### Formation of the CMB\n",
    "\n",
    "In the early universe, everything was so hot that atoms couldn't exist; protons and electrons were separate particles. As the universe expanded and cooled, these particles combined to form neutral hydrogen atoms. This process, called recombination, allowed light to travel freely through space for the first time, creating the CMB.\n",
    "\n",
    "#### Discovery of the CMB\n",
    "\n",
    "The CMB was discovered accidentally in 1964 by two radio astronomers, Arno Penzias and Robert Wilson. They were working on a radio telescope and found a mysterious noise that came from all directions in the sky. This noise turned out to be the CMB, confirming predictions made by earlier scientists and providing strong evidence for the Big Bang theory.\n",
    "\n",
    "<figure>\n",
    "<img src=\"media/horn.jpg\" height=\"400\"/>\n",
    "<figcaption>This is the Bell Labs' horn antenna. This is the radio telescope that first measured the CMB. This photo is from April 2007. <a href=\"https://commons.wikimedia.org/wiki/File:Bell_Labs_Horn_Antenna_Crawford_Hill_NJ.jpg\">Source.</a></figcaption>\n",
    "</figure>"
   ]
  },
  {
   "cell_type": "markdown",
   "metadata": {},
   "source": [
    "## Understanding Cosmic Light\n",
    "\n",
    "### Blackbody Radiation\n",
    "\n",
    "Blackbody radiation describes the light emitted by an object that absorbs all light falling on it. This ideal object, called a \"black body,\" re-emits light in a pattern that depends only on its temperature. Understanding blackbody radiation helps us learn about stars and the Cosmic Microwave Background (CMB).\n",
    "\n",
    "Planck's Law describes how much light a blackbody emits at different wavelengths. The formula is:\n",
    "\n",
    "$B(\\lambda, T) = \\frac{2hc^2}{\\lambda^5} \\frac{1}{\\exp\\left(\\frac{hc}{\\lambda kT}\\right) - 1}$\n",
    "\n",
    "with the spectral radiance $B(\\lambda, T)$ given in units of $W \\cdot m^{-2} \\cdot sr^{-1} \\cdot m^{-1}$. Here:\n",
    "* $h$ is the Planck constant ($6.626 \\times 10^{-34}$ J s)\n",
    "* $c$ is the speed of light in a vacuum ($3.00 \\times 10^8$ m/s)\n",
    "* $k$ is the Boltzmann constant ($1.381 \\times 10^{-23}$ J/K)\n",
    "* $T$ is the absolute temperature of the blackbody in Kelvin (K)\n",
    "* $\\lambda$ is the wavelength in meters (m).\n",
    "\n",
    "##### Optional Challenge: Write your own implementation of Planck's Law:\n",
    "\n",
    "Try implementing Planck's Law in Python to see how much light is emitted at different wavelengths and temperatures."
   ]
  },
  {
   "cell_type": "code",
   "execution_count": 2,
   "metadata": {},
   "outputs": [],
   "source": [
    "def blackbody_radiation(wavelength, temp):\n",
    "    \"\"\"\n",
    "    Your implementation of the blackbody radiation law equation using wavelength in meters.\n",
    "    \n",
    "    Parameters:\n",
    "    - wavelength: Wavelength of the radiation (in meters).\n",
    "    - temp: Temperature of the blackbody (in Kelvin).\n",
    "    \n",
    "    Returns:\n",
    "    - Spectral radiance of the blackbody (in W/m^2/sr/nm). Return None by default as a placeholder.\n",
    "    \"\"\"\n",
    "    # Reminder of the Planck's law formula in SI units:\n",
    "    # B(lambda, T) = (2hc^2 / lambda^5) * 1 / (exp(hc / (lambda kT)) - 1)\n",
    "    # where h = 6.626e-34 (J·s), c = 3e8 (m/s), k = 1.381e-23 (J/K),\n",
    "    # lambda is in meters, and T is in Kelvin.\n",
    "\n",
    "    # Hint: In Python, use '**' to denote exponentiation. For example, c squared is written as c**2.\n",
    "    # NumPy's exp function (np.exp) is used for exponential calculations. For e^x, you write np.exp(x).\n",
    "\n",
    "    h = 6.62607015e-34  # Planck constant, J·s\n",
    "    c = 299792458       # Speed of light, m/s\n",
    "    k = 1.380649e-23    # Boltzmann constant, J/K\n",
    "\n",
    "    # Your implementation here.\n",
    "\n",
    "    # Remember to return your calculated spectral radiance.\n",
    "\n",
    "    # FIXME: remove temporary implementation\n",
    "    return functions.blackbody_radiation(wavelength, temp)\n",
    "\n",
    "    #return None"
   ]
  },
  {
   "cell_type": "code",
   "execution_count": 3,
   "metadata": {},
   "outputs": [
    {
     "name": "stdout",
     "output_type": "stream",
     "text": [
      "All tests passed! Your implementation appears to be correct.\n"
     ]
    }
   ],
   "source": [
    "# Test your implementation of the Planck's Law\n",
    "print(tester.test_blackbody_radiation(blackbody_radiation))"
   ]
  },
  {
   "cell_type": "markdown",
   "metadata": {},
   "source": [
    "#### Visualizing the Blackbody Radiation"
   ]
  },
  {
   "cell_type": "code",
   "execution_count": 4,
   "metadata": {},
   "outputs": [
    {
     "data": {
      "application/vnd.jupyter.widget-view+json": {
       "model_id": "eb635a4a2c9743939aaaa3d7135fc2b5",
       "version_major": 2,
       "version_minor": 0
      },
      "text/plain": [
       "interactive(children=(FloatSlider(value=5778.0, description='Temperature (K):', layout=Layout(width='45%'), ma…"
      ]
     },
     "metadata": {},
     "output_type": "display_data"
    }
   ],
   "source": [
    "widgets.blackbody_radiation(blackbody_radiation)"
   ]
  },
  {
   "cell_type": "markdown",
   "metadata": {},
   "source": [
    "##### Think and Reflect:\n",
    "1. What changes do you notice in the curve when the temperature is increased? \n",
    "2. How about when it is decreased?"
   ]
  },
  {
   "cell_type": "markdown",
   "metadata": {},
   "source": [
    "### Peak Wavelength and Wien's Law\n",
    "\n",
    "After exploring the blackbody radiation curves, you've seen how the peak of the radiation curve shifts with changes in temperature. This movement isn't random; it's described by Wien's Displacement Law. Wien's Law tells us the wavelength at which the radiation from a blackbody (like a star, including our Sun) is most intense, and this wavelength is inversely related to the temperature of the body.\n",
    "\n",
    "Wien's Law can be stated mathematically as:\n",
    "\n",
    "$\\lambda_{\\text{max}} = \\frac{b}{T}$\n",
    "\n",
    "where:\n",
    "- $\\lambda_{\\text{max}}$ is the peak wavelength — the wavelength at which the emission is strongest,\n",
    "- $T$ is the absolute temperature of the blackbody (in Kelvin),\n",
    "- $b$ is Wien's displacement constant, approximately $2.897 \\times 10^{-3}$ m·K (meter-Kelvin).\n",
    "\n",
    "This law reveals an important insight: as a blackbody gets hotter, its peak emission shifts to shorter wavelengths. This is why, for example, a heating metal glows red and then white as its temperature increases.\n",
    "\n",
    "#### Practical Implication\n",
    "\n",
    "In astronomy, Wien's Law enables us to determine the surface temperature of stars by observing the color of the light they emit. A star emitting peak radiation at shorter wavelengths (more towards the blue end of the spectrum) is hotter than a star emitting peak radiation at longer wavelengths (more towards the red end of the spectrum).\n",
    "\n",
    "#### Optional Challenge: Implementing Wien's Law\n",
    "\n",
    "Let’s implement Wien's Law to calculate the peak wavelength for a given temperature."
   ]
  },
  {
   "cell_type": "code",
   "execution_count": 5,
   "metadata": {},
   "outputs": [],
   "source": [
    "def peak_wavelength(temp):\n",
    "    \"\"\"\n",
    "    Your implementation of Wien's Law to calculate the peak wavelength.\n",
    "    \n",
    "    Parameters:\n",
    "    - temp: The absolute temperature of the blackbody (in Kelvin).\n",
    "    \n",
    "    Returns:\n",
    "    - The peak wavelength (in meters). Return None by default as a placeholder.\n",
    "    \"\"\"\n",
    "    b = 2.897e-3  # Wien's displacement constant, m·K\n",
    "\n",
    "    # Your implementation here.\n",
    "\n",
    "    # Remember to return your calculated peak wavelength\n",
    "\n",
    "    # FIXME: remove temporary implementation\n",
    "    return functions.peak_wavelength(temp)\n",
    "\n",
    "    #return None"
   ]
  },
  {
   "cell_type": "code",
   "execution_count": 6,
   "metadata": {},
   "outputs": [
    {
     "name": "stdout",
     "output_type": "stream",
     "text": [
      "All tests passed! Your implementation appears to be correct.\n"
     ]
    }
   ],
   "source": [
    "# Test your implementation of the Wien's Law\n",
    "print(tester.test_peak_wavelength(peak_wavelength))"
   ]
  },
  {
   "cell_type": "markdown",
   "metadata": {},
   "source": [
    "#### Visualizing the Peak Wavelength"
   ]
  },
  {
   "cell_type": "code",
   "execution_count": 7,
   "metadata": {},
   "outputs": [
    {
     "data": {
      "application/vnd.jupyter.widget-view+json": {
       "model_id": "f3fa210c767c4db7b6b30a109cba2471",
       "version_major": 2,
       "version_minor": 0
      },
      "text/plain": [
       "interactive(children=(FloatSlider(value=5778.0, description='Temperature (K):', layout=Layout(width='45%'), ma…"
      ]
     },
     "metadata": {},
     "output_type": "display_data"
    }
   ],
   "source": [
    "widgets.peak_wavelength(blackbody_radiation, peak_wavelength)"
   ]
  },
  {
   "cell_type": "markdown",
   "metadata": {},
   "source": [
    "#### The Visible Light Spectrum\n",
    "\n",
    "The visible light spectrum is the range of electromagnetic waves that can be detected by the human eye. It includes all the colors we see in a rainbow, from violet to red. Each color corresponds to a specific range of wavelengths.\n",
    "\n",
    "Let's zoom in on the blackbody radiation spectrum to see how the different colors fit within the electromagnetic spectrum. This will help us understand the relationship between temperature and the color of light emitted by objects."
   ]
  },
  {
   "cell_type": "code",
   "execution_count": 8,
   "metadata": {},
   "outputs": [
    {
     "data": {
      "image/png": "[encoded data removed]",
      "text/plain": [
       "<Figure size 2000x200 with 1 Axes>"
      ]
     },
     "metadata": {},
     "output_type": "display_data"
    }
   ],
   "source": [
    "plot.visibile_wavelengths()"
   ]
  },
  {
   "cell_type": "markdown",
   "metadata": {},
   "source": [
    "##### Think and Reflect:\n",
    "1. What happens to the peak wavelength when the temperature is decreased? How might this affect the appearance of a star as it cools down?\n",
    "2. Can you think of everyday examples where changes in temperature lead to changes in color similar to those described by Wien's Law?"
   ]
  },
  {
   "cell_type": "markdown",
   "metadata": {},
   "source": [
    "## Expansion of the Universe\n",
    "\n",
    "### The Doppler Effect\n",
    "\n",
    "The Doppler effect is a phenomenon that occurs when there is relative motion between a source of waves and an observer. You may have noticed it with sound: for example, the siren of an ambulance sounds higher-pitched as it approaches you and lower-pitched as it moves away. This change in pitch happens because the sound waves are compressed as the ambulance approaches and stretched as it moves away.\n",
    "\n",
    "<figure>\n",
    "<img src=\"media/doppler_effect.png\" />\n",
    "<figcaption>The figure shows a moving ambulence, its moving to the right. The sound waves from the siren are compressed in the direction of travel, and streched in the direction the ambulence is leaving. <a href=\"https://online-learning-college.com/knowledge-hub/gcses/gcse-physics-help/doppler-effect/\">Source.</a></figcaption>\n",
    "</figure>\n",
    "\n",
    "### Redshift and the Expanding Universe\n",
    "\n",
    "The Doppler effect also applies to light waves. When a light source moves away from us, its light waves are stretched, making the light appear redder. This is called redshift. Conversely, if a light source moves toward us, its light waves are compressed, making the light appear bluer, which is called blueshift.\n",
    "\n",
    "Redshift is a key piece of evidence for the expanding universe. By observing the redshift of light from distant galaxies, scientists have concluded that the universe is expanding. The further away a galaxy is, the faster it appears to be moving away from us, indicating that space itself is stretching.\n",
    "\n",
    "<figure>\n",
    "<img src=\"media/receding.gif\" />\n",
    "<figcaption>The above figure shows how the light from two galaxys moving away from eachother appears redshifted. This is the radio telescope that first measured the CMB. This photo is from April 2007. <a href=\"https://www.astro.ucla.edu/~wright/cosmo_01.htm\">Source.</a></figcaption>\n",
    "</figure>\n",
    "\n",
    "\n",
    "##### Visualizing Redshift\n",
    "\n",
    "Let's look at how redshift works with an interactive plot.\n"
   ]
  },
  {
   "cell_type": "code",
   "execution_count": 9,
   "metadata": {},
   "outputs": [
    {
     "data": {
      "application/vnd.jupyter.widget-view+json": {
       "model_id": "5c3af56eacda4e2ea78d082845d66aff",
       "version_major": 2,
       "version_minor": 0
      },
      "text/plain": [
       "VBox(children=(HBox(children=(FloatSlider(value=0.0, description='Velocity (m/s):', layout=Layout(width='45%')…"
      ]
     },
     "metadata": {},
     "output_type": "display_data"
    }
   ],
   "source": [
    "widgets.redshift()"
   ]
  },
  {
   "cell_type": "markdown",
   "metadata": {},
   "source": [
    "#### Think and Reflect\n",
    "\n",
    "1. How does the redshift of light help us understand the movement of galaxies?\n",
    "2. Why is redshift important evidence for the expanding universe?"
   ]
  },
  {
   "cell_type": "markdown",
   "metadata": {},
   "source": [
    "## Analyzing COBE Data Spectrum\n",
    "\n",
    "The Cosmic Background Explorer (COBE) was a satellite launched by NASA in 1989 to measure the diffuse infrared and microwave radiation from the early universe. One of its key discoveries was the detailed measurement of the Cosmic Microwave Background (CMB) radiation, which closely matches the spectrum of a perfect blackbody.\n",
    "\n",
    "In this activity, you'll use real data from the COBE mission. By adjusting the temperature of a blackbody radiation curve, you can see how well it fits the actual measurements. The goal is to find the temperature that best matches the COBE data points.\n",
    "\n",
    "### Interactive Analysis with COBE Data\n",
    "\n",
    "Let's visualize the COBE data points and fit a blackbody radiation curve to them by adjusting the temperature."
   ]
  },
  {
   "cell_type": "code",
   "execution_count": 10,
   "metadata": {},
   "outputs": [
    {
     "data": {
      "application/vnd.jupyter.widget-view+json": {
       "model_id": "769d1aa3e53c405a9e6eda1aedd31790",
       "version_major": 2,
       "version_minor": 0
      },
      "text/plain": [
       "SelectionSlider(continuous_update=False, description='As hot/cold as:', layout=Layout(width='45%'), options=('…"
      ]
     },
     "metadata": {},
     "output_type": "display_data"
    },
    {
     "data": {
      "application/vnd.jupyter.widget-view+json": {
       "model_id": "1210c3f7a8dd43cbac8afef3046c7244",
       "version_major": 2,
       "version_minor": 0
      },
      "text/plain": [
       "FloatSlider(value=300.0, continuous_update=False, description='Temperature (K):', layout=Layout(width='45%'), …"
      ]
     },
     "metadata": {},
     "output_type": "display_data"
    },
    {
     "data": {
      "application/vnd.jupyter.widget-view+json": {
       "model_id": "389ae79bddce4b5c880bdbcb42be1bfc",
       "version_major": 2,
       "version_minor": 0
      },
      "text/plain": [
       "Output()"
      ]
     },
     "metadata": {},
     "output_type": "display_data"
    }
   ],
   "source": [
    "widgets.cobe_fit(blackbody_radiation)"
   ]
  },
  {
   "cell_type": "markdown",
   "metadata": {},
   "source": [
    "#### Think and Reflect\n",
    "\n",
    "1. What temperature value gives the best fit to the COBE data points?\n",
    "2. Why is the temperature that fits the COBE data so important in cosmology?"
   ]
  },
  {
   "cell_type": "markdown",
   "metadata": {},
   "source": [
    "### CMB Maps\n",
    "\n",
    "A CMB (Cosmic Microwave Background) map is a visual representation of the temperature fluctuations in the CMB radiation across the sky. These tiny variations in temperature are remnants of the early universe, providing a snapshot of the conditions shortly after the Big Bang. By studying these maps, scientists can learn about the universe's composition, structure, and evolution.\n",
    "\n",
    "The image below shows the progression of CMB maps from COBE, WMAP, and Planck missions. Each successive mission has provided more detailed and accurate maps, helping scientists gain deeper insights into the early universe.\n",
    "\n",
    "<figure>\n",
    "<img src=\"media/cmb_progress.jpg\" />\n",
    "<figcaption>\n",
    "Each panel showcases 10-square-degree patches of all-sky maps captured by space-based missions that have revolutionized our understanding of the universe. The left panel introduces NASA's Cosmic Background Explorer (COBE), launched in 1989, which played a pivotal role in supporting the big bang theory and revealing crucial information about the ancient state of our universe. In the middle panel, we encounter the Wilkinson Microwave Anisotropy Probe (WMAP), launched in 2001, which unraveled intricate variations in the primordial light, offering strong evidence for inflation and refining our understanding of the cosmos. Finally, on the right panel, we are introduced to Planck, the most advanced satellite to date, launched in 2009 with contributions from NASA and the European Space Agency.\n",
    "<a href=\"https://photojournal.jpl.nasa.gov/catalog/PIA16874\">Source.</a></figcaption>\n",
    "</figure>"
   ]
  },
  {
   "cell_type": "markdown",
   "metadata": {},
   "source": [
    "### Let's Play with CMB Maps\n",
    "\n",
    "Now that we have learned the basics of the CMB, it's time to dive into the exciting world of real CMB maps. These maps provide us with invaluable insights into the early universe and its properties. Let's explore this fascinating field together!\n",
    "\n",
    "The Planck mission was a space observatory dedicated to studying the CMB. Launched by the European Space Agency (ESA) in 2009, Planck collected data until 2013, revolutionizing our understanding of the universe's origins.\n",
    "\n",
    "#### Loading Measurements from Planck\n",
    "\n",
    "To work with Planck data, we use special software tools designed to handle and analyze CMB data. These tools simplify accessing and interpreting the information contained within Planck's measurements. We have pre-downloaded some Planck maps for you.\n",
    "\n",
    "Let's load these maps and visualize them using the provided functions."
   ]
  },
  {
   "cell_type": "code",
   "execution_count": 11,
   "metadata": {},
   "outputs": [
    {
     "data": {
      "application/vnd.jupyter.widget-view+json": {
       "model_id": "b5022095e1f44eb5be5ecf39a8245f50",
       "version_major": 2,
       "version_minor": 0
      },
      "text/plain": [
       "Output()"
      ]
     },
     "metadata": {},
     "output_type": "display_data"
    }
   ],
   "source": [
    "widgets.cmb_planck_map()"
   ]
  },
  {
   "cell_type": "markdown",
   "metadata": {},
   "source": [
    "When we visualize a three-dimensional object like a sphere on a two-dimensional surface, such as an image, distortions occur at the top and bottom. These distortions arise due to the challenge of representing a curved surface on a flat plane.\n",
    "\n",
    "One interesting aspect of the CMB map is the temperature fluctuations across the sky. These fluctuations, although they seem random, provide valuable insights into the early universe.\n",
    "\n",
    "To begin our analysis, let's get a sense of how much the CMB temperature fluctuates by measuring the standard deviation of the CMB map visually."
   ]
  },
  {
   "cell_type": "markdown",
   "metadata": {},
   "source": [
    "### Measuring Standard Deviation\n",
    "\n",
    "Standard deviation is a statistical measure that quantifies the amount of variation or dispersion in a set of values. In the context of the CMB, it helps us understand how much the temperature fluctuates across different parts of the sky. A lower standard deviation means the values are closer to the mean (average), while a higher standard deviation means the values are more spread out.\n",
    "\n",
    "To measure the standard deviation visually, we look for the range within which most data points fall. This range is typically centered around the mean value, with the standard deviation $\\sigma$ indicating the typical distance from the mean."
   ]
  },
  {
   "cell_type": "code",
   "execution_count": 147,
   "metadata": {},
   "outputs": [
    {
     "data": {
      "application/vnd.jupyter.widget-view+json": {
       "model_id": "b757811ec48a448793a4e89e5d8d4f7f",
       "version_major": 2,
       "version_minor": 0
      },
      "text/plain": [
       "interactive(children=(Checkbox(value=False, description='Show Guidelines', indent=False, tooltip='Show guideli…"
      ]
     },
     "metadata": {},
     "output_type": "display_data"
    }
   ],
   "source": [
    "widgets.cmb_std_dev()"
   ]
  },
  {
   "cell_type": "markdown",
   "metadata": {},
   "source": [
    "#### Think and Reflect\n",
    "\n",
    "1. How small are the fluctuations compared to the average CMB temperature of 2.7 K?\n",
    "2. How many times smaller are the fluctuations than the mean CMB temperature?\n",
    "3. Why are these temperature fluctuations interesting?"
   ]
  },
  {
   "cell_type": "markdown",
   "metadata": {},
   "source": [
    "The CMB map is remarkably uniform, with fluctuations roughly a hundred-thousand times smaller than the mean temperature. Measuring these tiny fluctuations is a significant achievement, as they represent minute density variations in the early universe, which are the seeds of the structures we see today."
   ]
  },
  {
   "cell_type": "markdown",
   "metadata": {},
   "source": [
    "### What's on the Map\n",
    "\n",
    "To enhance our understanding and visual exploration of the CMB map, we will utilize an interactive tool. This tool allows us to identify different types of objects present in the CMB map."
   ]
  },
  {
   "cell_type": "code",
   "execution_count": 13,
   "metadata": {},
   "outputs": [
    {
     "data": {
      "text/html": [
       "\n",
       "        <iframe\n",
       "            width=\"100%\"\n",
       "            height=\"400px\"\n",
       "            src=\"https://phy-act1.princeton.edu/public/snaess/actpol/dr5/atlas/\"\n",
       "            frameborder=\"0\"\n",
       "            allowfullscreen\n",
       "            \n",
       "        ></iframe>\n",
       "        "
      ],
      "text/plain": [
       "<IPython.lib.display.IFrame at 0x7429e6b50210>"
      ]
     },
     "execution_count": 13,
     "metadata": {},
     "output_type": "execute_result"
    }
   ],
   "source": [
    "widgets.cmb_map_iframe()"
   ]
  },
  {
   "cell_type": "markdown",
   "metadata": {},
   "source": [
    "Overall, we can observe several types of features within the CMB map:\n",
    "\n",
    "1. **Hot Spots/Cold Spots**:\n",
    "   These regions show variations in temperature due to density fluctuations in the early universe. These fluctuations are remnants of quantum fluctuations from the cosmic inflation era, which have evolved over billions of years into the structures we see today.\n",
    "\n",
    "2. **Stars**:\n",
    "   While observing the CMB map, you may notice small point-like features that resemble stars. These are stars within our galaxy that become visible by blocking the CMB light.\n",
    "\n",
    "3. **Galaxies**:\n",
    "   The CMB map also contains signals from distant galaxies, typically observed as extended patches or structures embedded within the map.\n",
    "\n",
    "4. **Galaxy Clusters**:\n",
    "   Galaxy clusters are large assemblies of galaxies and dark matter pulled together by gravitational force. They appear as distinctive cold dot-like spots on the CMB map due to the Sunyaev-Zel'dovich effect. As the CMB radiation passes through the hot gas in galaxy clusters, it gets an energetic kick, shifting the radiation to a slightly different frequency, making these photons \"missing\" from the CMB map.\n",
    "\n",
    "5. **Milky Way Galaxy**:\n",
    "   The Milky Way emits various forms of radiation that can contaminate the CMB signal. It appears as a prominent feature, sometimes referred to as the \"Galactic Plane,\" spanning across the CMB map. It's essential to account for and mitigate the Milky Way's contributions when studying the CMB.\n",
    "\n",
    "The formation of hot and cold spots in the CMB map can be attributed to the interplay between radiation pressure and gravity during the early universe. Slight density variations caused fluctuations in radiation pressure, leading to sound waves propagating through the gas. At around 400,000 years after the Big Bang, the interaction between matter and radiation significantly reduced, resulting in the pressure wave being nearly frozen, with a size of approximately 150 megaparsecs.\n",
    "\n",
    "#### Identify Different Types of Objects in the Map\n",
    "\n",
    "Use the grid of images below to identify different types of objects in regions of the CMB map. Each image shows a part of the CMB map. Select the type of object you think is shown in each image from the dropdown list."
   ]
  },
  {
   "cell_type": "code",
   "execution_count": 14,
   "metadata": {},
   "outputs": [
    {
     "data": {
      "application/vnd.jupyter.widget-view+json": {
       "model_id": "3139d0e8021c4519abaa82b52c21552f",
       "version_major": 2,
       "version_minor": 0
      },
      "text/plain": [
       "VBox(children=(HBox(children=(VBox(children=(Image(value=b'\\xff\\xd8\\xff\\xe0\\x00\\x10JFIF\\x00\\x01\\x01\\x01\\x00`\\x…"
      ]
     },
     "metadata": {},
     "output_type": "display_data"
    }
   ],
   "source": [
    "widgets.cmb_map_objects()"
   ]
  },
  {
   "cell_type": "markdown",
   "metadata": {},
   "source": [
    "### Estimate the Distance of the Moon\n",
    "\n",
    "To estimate the age of the universe using the CMB map, we can employ a methodology similar to determining the distance of the moon. Let's walk through how to do that now.\n",
    "\n",
    "Let's suppose that we already know the physical size (diameter) of the moon to be 3,474 km, and we can easily measure the angular size (diameter) of the moon on the sky to be 0.52 degrees. How do we estimate the distance to the moon? Recall the formula for an arc-length:\n",
    "\n",
    "![arclengh](media/arclength.png)\n",
    "\n",
    "Therefore, we have\n",
    "$$\\text{distance to the moon} = \\frac{\\text{physical diameter of the moon}}{\\text{angular size subtended by the moon}}$$\n",
    "\n",
    "**Important**: To use this formula correctly, we need to convert the angular size from degrees to radians.\n",
    "\n",
    "$$\\text{angular size (radians)} = \\text{angular size (degrees)} \\times \\frac{\\pi}{180}$$\n",
    "\n",
    "\n",
    "Work out the distance to the moon, and then use this distance to calculate how many seconds it takes light to reach the moon from the Earth."
   ]
  },
  {
   "cell_type": "code",
   "execution_count": 15,
   "metadata": {},
   "outputs": [
    {
     "data": {
      "application/vnd.jupyter.widget-view+json": {
       "model_id": "57cc08f007e84a538b087365debcb906",
       "version_major": 2,
       "version_minor": 0
      },
      "text/plain": [
       "VBox(children=(HBox(children=(FloatText(value=0.0, description='Distance (km):', layout=Layout(width='45%'), s…"
      ]
     },
     "metadata": {},
     "output_type": "display_data"
    }
   ],
   "source": [
    "moon_distance = 0 # TODO \n",
    "light_travel_time = 0 # TODO\n",
    "\n",
    "widgets.calculate_moon_distance(moon_distance, light_travel_time)"
   ]
  },
  {
   "cell_type": "markdown",
   "metadata": {},
   "source": [
    "## Measuring the Age and Scale of the Universe Using the CMB\n",
    "\n",
    "### Sound Horizon and Hot Spots\n",
    "\n",
    "In the context of the Cosmic Microwave Background (CMB), the hot and cold spots are a result of primordial \"sound\" waves generated by the interplay of gravity and radiation pressure. At approximately 300,000 years after the Big Bang, the CMB light decoupled from other primordial components of the universe. During this relatively brief period, the primordial \"sound\" waves propagated through the early universe, creating a pattern with a consistent physical size, determined by the speed of sound in the early universe.\n",
    "\n",
    "This consistent physical size is known as the \"sound horizon,\" which is approximately 150 megaparsecs (Mpc). The sound horizon represents the maximum distance that these sound waves could travel in the early universe before the CMB light decoupled and began to travel freely through space.\n",
    "\n",
    "Understanding the sound horizon is crucial because it provides a standard ruler for measuring distances in the universe. By observing the size of the hot and cold spots in the CMB map, we can infer significant cosmological parameters, including the age and expansion rate of the universe.\n",
    "\n",
    "In the next sections, we will:\n",
    "1. Identify hot spots in the CMB map.\n",
    "2. Average the hot spot thumbnails to reduce noise.\n",
    "3. Measure the angular size of the averaged hot spot.\n",
    "4. Calculate the distance the CMB light has traveled using this angular size.\n",
    "5. Determine the time it took for this light to reach us, providing an estimate of the age of the universe."
   ]
  },
  {
   "cell_type": "markdown",
   "metadata": {},
   "source": [
    "### Identifying Hot Spots in the CMB Map\n",
    "\n",
    "To understand the cosmic microwave background (CMB) and the sound horizon, we need to identify the hot spots in the CMB map. These hot spots are regions where the temperature is slightly higher than the average, resulting from density fluctuations in the early universe.\n",
    "\n",
    "Instructions:\n",
    "\n",
    "- Use the Visualizer: Open the CMB map visualizer provided in the [What's on the Map](#whats-on-the-map) section.\n",
    "- Identify Hot Spots: Locate at least 20 hot spots on the map. Remember to avoid regions with obvious galaxies or stars.\n",
    "- Record Coordinates: Write down the coordinates (latitude and longitude) of each hot spot you identify in the array provided.\n",
    "- Visualize Thumbnails: Use the provided code to extract and visualize the thumbnails of the identified hot spots."
   ]
  },
  {
   "cell_type": "code",
   "execution_count": 89,
   "metadata": {},
   "outputs": [
    {
     "data": {
      "application/vnd.jupyter.widget-view+json": {
       "model_id": "4ad7d86b0d484b5389954673c35f25fd",
       "version_major": 2,
       "version_minor": 0
      },
      "text/plain": [
       "VBox(children=(HBox(children=(Label(value='Coordinate 1:'), FloatText(value=-46.266, continuous_update=True, d…"
      ]
     },
     "metadata": {},
     "output_type": "display_data"
    },
    {
     "data": {
      "application/vnd.jupyter.widget-view+json": {
       "model_id": "873f51c82c1142e1831706e831b27798",
       "version_major": 2,
       "version_minor": 0
      },
      "text/plain": [
       "Button(description='Add Coordinates', style=ButtonStyle())"
      ]
     },
     "metadata": {},
     "output_type": "display_data"
    },
    {
     "data": {
      "application/vnd.jupyter.widget-view+json": {
       "model_id": "989cde3a897748519b3d309fd6301d4e",
       "version_major": 2,
       "version_minor": 0
      },
      "text/plain": [
       "Output()"
      ]
     },
     "metadata": {},
     "output_type": "display_data"
    }
   ],
   "source": [
    "widgets.coordinate_inputs()"
   ]
  },
  {
   "cell_type": "markdown",
   "metadata": {},
   "source": [
    "Reflection:\n",
    "\n",
    "- Ensure that the hot spots you identify are roughly centered in each thumbnail.\n",
    "- If the extracted thumbnails do not look correct, try to adjust the coordinates or re-evaluate the identified hot spots."
   ]
  },
  {
   "cell_type": "markdown",
   "metadata": {},
   "source": [
    "### Averaging Hot Spot Thumbnails\n",
    "\n",
    "Now that you have identified hot spots in the CMB map, the next step is to average these thumbnails. Averaging reduces noise and provides a clearer view of temperature fluctuation patterns.\n",
    "\n",
    "Use the slider to adjust the number of thumbnails included in the averaging process. Observe how the mean thumbnail improves as more hot spots are added, reducing noise and clarifying the signal.\n",
    "\n",
    "Notice how the noise reduces and the signal becomes clearer as more hot spots are averaged. If the averaged image does not look correct, check the coordinates and thumbnails you used. You might need to re-evaluate the hot spots and adjust the coordinates accordingly."
   ]
  },
  {
   "cell_type": "code",
   "execution_count": 138,
   "metadata": {},
   "outputs": [
    {
     "data": {
      "application/vnd.jupyter.widget-view+json": {
       "model_id": "8543de47ebe141778ab63e91e255d6c9",
       "version_major": 2,
       "version_minor": 0
      },
      "text/plain": [
       "interactive(children=(IntSlider(value=1, continuous_update=False, description='Number of thumbnails:', layout=…"
      ]
     },
     "metadata": {},
     "output_type": "display_data"
    },
    {
     "data": {
      "application/vnd.jupyter.widget-view+json": {
       "model_id": "f439ea8e8a384ef0986331f4cef36f92",
       "version_major": 2,
       "version_minor": 0
      },
      "text/plain": [
       "Output()"
      ]
     },
     "metadata": {},
     "output_type": "display_data"
    }
   ],
   "source": [
    "widgets.cmb_thumbnails_averaging()"
   ]
  },
  {
   "cell_type": "code",
   "execution_count": 150,
   "metadata": {},
   "outputs": [
    {
     "data": {
      "application/vnd.jupyter.widget-view+json": {
       "model_id": "91f94bb59e5246ea9ee37736ed3adbf6",
       "version_major": 2,
       "version_minor": 0
      },
      "text/plain": [
       "HBox(children=(IntSlider(value=5, description='Peak Threshold:', layout=Layout(width='45%'), max=95, min=5, re…"
      ]
     },
     "metadata": {},
     "output_type": "display_data"
    },
    {
     "data": {
      "application/vnd.jupyter.widget-view+json": {
       "model_id": "fb6db36ea3774e7da048882b744dfd7f",
       "version_major": 2,
       "version_minor": 0
      },
      "text/plain": [
       "HBox(children=(VBox(children=(Output(),), layout=Layout(justify_content='center')), VBox(children=(Output(),),…"
      ]
     },
     "metadata": {},
     "output_type": "display_data"
    }
   ],
   "source": [
    "widgets.averaged_hotspot_horizontal_profile()\n"
   ]
  },
  {
   "cell_type": "code",
   "execution_count": 141,
   "metadata": {},
   "outputs": [
    {
     "data": {
      "image/png": "[encoded data removed]",
      "text/plain": [
       "<Figure size 1600x800 with 1 Axes>"
      ]
     },
     "metadata": {},
     "output_type": "display_data"
    }
   ],
   "source": [
    "plot.averaged_hotspot_radial_profile(widgets.cmb_data.mean_image)"
   ]
  },
  {
   "cell_type": "markdown",
   "metadata": {},
   "source": [
    "## Reflecting on Your Learning\n",
    "\n",
    "- Can I explain what the CMB is and its significance?\n",
    "- Can I describe how the CMB was formed?\n",
    "- Am I comfortable with Planck's Law and Wien's Law?\n",
    "- Have I understood black body radiation graphs?\n",
    "- Do I understand the Doppler effect and redshift?\n",
    "- Can I analyze and identify features in real CMB data?\n",
    "- Have I improved my Python programming skills (if I chose to do the optional exercises)?"
   ]
  }
 ],
 "metadata": {
  "kernelspec": {
   "display_name": "astro",
   "language": "python",
   "name": "python3"
  },
  "language_info": {
   "codemirror_mode": {
    "name": "ipython",
    "version": 3
   },
   "file_extension": ".py",
   "mimetype": "text/x-python",
   "name": "python",
   "nbconvert_exporter": "python",
   "pygments_lexer": "ipython3",
   "version": "3.11.6"
  }
 },
 "nbformat": 4,
 "nbformat_minor": 2
}
