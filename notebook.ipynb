{
 "cells": [
  {
   "cell_type": "code",
   "execution_count": null,
   "metadata": {},
   "outputs": [],
   "source": [
    "import numpy as np\n",
    "import matplotlib.pyplot as plt\n",
    "from IPython.display import Video\n",
    "\n",
    "from astropy.visualization import astropy_mpl_style\n",
    "plt.style.use(astropy_mpl_style)\n",
    "\n",
    "%reload_ext autoreload\n",
    "%autoreload 2\n",
    "\n",
    "# Global settings for plots\n",
    "\n",
    "# Set global figure size\n",
    "plt.rcParams['figure.figsize'] = [20, 10]\n",
    "\n",
    "# Set the global default figure facecolor to white\n",
    "plt.rcParams['figure.facecolor'] = 'white'\n",
    "\n",
    "# Set global font size\n",
    "plt.rcParams['font.size'] = 16\n",
    "plt.rcParams['axes.labelsize'] = 20\n",
    "plt.rcParams['xtick.labelsize'] = 20\n",
    "plt.rcParams['ytick.labelsize'] = 20\n",
    "#mpl.rcParams['legend.fontsize'] = 'large'\n",
    "\n",
    "# Set the default legend marker size globally\n",
    "plt.rcParams['legend.markerscale'] = 2\n",
    "\n",
    "# Increase title to plot distance\n",
    "plt.rcParams['axes.titley'] = 1.05\n",
    "\n",
    "# Set the colormap globally\n",
    "plt.set_cmap('cividis')\n",
    "\n",
    "# Set the color cycle to include 10 easily distinguishable colors\n",
    "plt.style.use('tableau-colorblind10')"
   ]
  },
  {
   "cell_type": "code",
   "execution_count": null,
   "metadata": {},
   "outputs": [],
   "source": [
    "from cmb import tester, plot \n",
    "# FIXME: remove temporary import\n",
    "from cmb import functions"
   ]
  },
  {
   "cell_type": "markdown",
   "metadata": {},
   "source": [
    "# CMB Workshop"
   ]
  },
  {
   "cell_type": "markdown",
   "metadata": {},
   "source": [
    "### Table of Contents\n",
    "\n",
    "1. [Introduction](#introduction)  \n",
    "    1.1 [The Cosmic Microwave Background](#the-cosmic-microwave-background-cmb): What secrets does the universe's oldest light hold?  \n",
    "    1.2 [Activity Overview](#activity-overview): How do we uncover the cosmos' earliest mysteries?  \n",
    "2. [Understanding Cosmic Light](#understanding-cosmic-light)  \n",
    "    2.1 [Black Body Radiation](#black-body-radiation): How do objects in space emit light?  \n",
    "    2.2 [Peak Wavelength and Wien’s Law](#peak-wavelength-and-wiens-law): What does a star's color reveal?\n",
    "3. [Expansion of the Universe](#expansion-of-the-universe)  \n",
    "    3.1 [Redshifting and the Doppler Effect](#redshift-and-the-doppler-effect): How do we know the universe is expanding?  \n",
    "    3.2 [Analyzing COBE Data Spectrum](#analyzing-cobe-data-spectrum): What can ancient light tell us?  \n"
   ]
  },
  {
   "cell_type": "markdown",
   "metadata": {},
   "source": [
    "## Introduction"
   ]
  },
  {
   "cell_type": "markdown",
   "metadata": {},
   "source": [
    "### The Cosmic Microwave Background (CMB)"
   ]
  },
  {
   "cell_type": "markdown",
   "metadata": {},
   "source": [
    "### Activity Overview"
   ]
  },
  {
   "cell_type": "markdown",
   "metadata": {},
   "source": [
    "## Understanding Cosmic Light"
   ]
  },
  {
   "cell_type": "markdown",
   "metadata": {},
   "source": [
    "### Black Body Radiation\n",
    "\n",
    "Black body radiation is a fundamental concept in physics that describes the spectrum of light emitted by an idealized, perfect emitter of radiation. This theoretical construct, known as a \"black body,\" absorbs all incident electromagnetic radiation, regardless of frequency or angle, and re-emits it in a characteristic spectrum that depends only on the body's temperature. This phenomenon is critical in various fields, including astrophysics, where it helps in understanding celestial objects' thermal properties and the Cosmic Microwave Background (CMB).\n",
    "\n",
    "The spectral radiance of a black body, which is the power emitted per unit area per unit solid angle per unit wavelength, can be quantitatively described by Planck's law. Expressed in terms of wavelength ($\\lambda$) and in SI units, Planck's law is given by:\n",
    "\n",
    "$B(\\lambda, T) = \\frac{2hc^2}{\\lambda^5} \\frac{1}{\\exp\\left(\\frac{hc}{\\lambda kT}\\right) - 1}$\n",
    "\n",
    "\n",
    "with the spectral radiance $B(\\lambda, T)$ given in units of $W \\cdot m^{-2} \\cdot sr^{-1} \\cdot m^{-1}$. Here:\n",
    "* $h$ is the Planck constant ($6.626 \\times 10^{-34}$ J s)\n",
    "* $c$ is the speed of light in a vacuum ($3.00 \\times 10^8$ m/s)\n",
    "* $k$ is the Boltzmann constant ($1.381 \\times 10^{-23}$ J/K)\n",
    "* $T$ is the absolute temperature of the black body in Kelvin (K)\n",
    "* $\\lambda$ is the wavelength in meters (m)."
   ]
  },
  {
   "cell_type": "markdown",
   "metadata": {},
   "source": [
    "##### Optional Challenge: Write your own implementation of Planck's Law:"
   ]
  },
  {
   "cell_type": "code",
   "execution_count": null,
   "metadata": {},
   "outputs": [],
   "source": [
    "# TODO: consider adding a warm-up exercise about Python calculations: exponents, division, etc\n",
    "\n",
    "def blackbody_radiation(wavelength, temp):\n",
    "    \"\"\"\n",
    "    Your implementation of the black body radiation law equation using wavelength in meters.\n",
    "    \n",
    "    Parameters:\n",
    "    - wavelength: Wavelength of the radiation (in meters).\n",
    "    - temp: Temperature of the black body (in Kelvin).\n",
    "    \n",
    "    Returns:\n",
    "    - Spectral radiance of the black body (in W/m^2/sr/nm). Return None by default as a placeholder.\n",
    "    \"\"\"\n",
    "    # Reminder of the Planck's law formula in SI units:\n",
    "    # B(lambda, T) = (2hc^2 / lambda^5) * 1 / (exp(hc / (lambda kT)) - 1)\n",
    "    # where h = 6.626e-34 (J·s), c = 3e8 (m/s), k = 1.381e-23 (J/K),\n",
    "    # lambda is in meters, and T is in Kelvin.\n",
    "\n",
    "    # Hint: In Python, use '**' to denote exponentiation. For example, c squared is written as c**2.\n",
    "    # NumPy's exp function (np.exp) is used for exponential calculations. For e^x, you write np.exp(x).\n",
    "\n",
    "    h = 6.62607015e-34  # Planck constant, J·s\n",
    "    c = 299792458       # Speed of light, m/s\n",
    "    k = 1.380649e-23    # Boltzmann constant, J/K\n",
    "\n",
    "    # Your implementation here.\n",
    "\n",
    "    # Remember to return your calculated spectral radiance.\n",
    "\n",
    "    # FIXME: remove temporary implementation\n",
    "    return functions.blackbody_radiation(wavelength, temp)\n",
    "\n",
    "    #return None"
   ]
  },
  {
   "cell_type": "code",
   "execution_count": null,
   "metadata": {},
   "outputs": [],
   "source": [
    "# Test your implementation of the Planck's Law\n",
    "print(tester.test_blackbody_radiation(blackbody_radiation))"
   ]
  },
  {
   "cell_type": "markdown",
   "metadata": {},
   "source": [
    "#### Visualizing the Black Body Radiation"
   ]
  },
  {
   "cell_type": "code",
   "execution_count": null,
   "metadata": {},
   "outputs": [],
   "source": [
    "plot.interactive_blackbody_radiation(blackbody_radiation)"
   ]
  },
  {
   "cell_type": "markdown",
   "metadata": {},
   "source": [
    "##### Think and Reflect:\n",
    "1. What changes do you notice in the curve when the temperature is increased? \n",
    "2. How about when it is decreased?"
   ]
  },
  {
   "cell_type": "markdown",
   "metadata": {},
   "source": [
    "### Peak Wavelength and Wien's Law\n",
    "\n",
    "After exploring the black body radiation curves, you've seen how the peak of the radiation curve shifts with changes in temperature. This movement isn't random; it's described by Wien's Displacement Law. Wien's Law tells us the wavelength at which the radiation from a black body (like a star, including our Sun) is most intense, and this wavelength is inversely related to the temperature of the body.\n",
    "\n",
    "Wien's Law can be stated mathematically as:\n",
    "\n",
    "$\\lambda_{\\text{max}} = \\frac{b}{T}$\n",
    "\n",
    "where:\n",
    "- $\\lambda_{\\text{max}}$ is the peak wavelength — the wavelength at which the emission is strongest,\n",
    "- $T$ is the absolute temperature of the black body (in Kelvin),\n",
    "- $b$ is Wien's displacement constant, approximately $2.897 \\times 10^{-3}$ m·K (meter-Kelvin).\n",
    "\n",
    "This law reveals an important insight: as a black body gets hotter, its peak emission shifts to shorter wavelengths. This is why, for example, a heating metal glows red and then white as its temperature increases.\n",
    "\n",
    "#### Practical Implication\n",
    "\n",
    "In astronomy, Wien's Law enables us to determine the surface temperature of stars by observing the color of the light they emit. A star emitting peak radiation at shorter wavelengths (more towards the blue end of the spectrum) is hotter than a star emitting peak radiation at longer wavelengths (more towards the red end of the spectrum).\n",
    "\n",
    "#### Optional Challenge: Implementing Wien's Law\n",
    "\n",
    "Let’s implement Wien's Law to calculate the peak wavelength for a given temperature."
   ]
  },
  {
   "cell_type": "code",
   "execution_count": null,
   "metadata": {},
   "outputs": [],
   "source": [
    "def peak_wavelength(temp):\n",
    "    \"\"\"\n",
    "    Your implementation of Wien's Law to calculate the peak wavelength.\n",
    "    \n",
    "    Parameters:\n",
    "    - temp: The absolute temperature of the black body (in Kelvin).\n",
    "    \n",
    "    Returns:\n",
    "    - The peak wavelength (in meters). Return None by default as a placeholder.\n",
    "    \"\"\"\n",
    "    b = 2.897e-3  # Wien's displacement constant, m·K\n",
    "\n",
    "    # Your implementation here.\n",
    "\n",
    "    # Remember to return your calculated peak wavelength\n",
    "\n",
    "    # FIXME: remove temporary implementation\n",
    "    return functions.peak_wavelength(temp)\n",
    "\n",
    "    #return None\n"
   ]
  },
  {
   "cell_type": "code",
   "execution_count": null,
   "metadata": {},
   "outputs": [],
   "source": [
    "# Test your implementation of the Wien's Law\n",
    "print(tester.test_peak_wavelength(peak_wavelength))"
   ]
  },
  {
   "cell_type": "markdown",
   "metadata": {},
   "source": [
    "#### Visualizing the Peak Wavelength"
   ]
  },
  {
   "cell_type": "code",
   "execution_count": null,
   "metadata": {},
   "outputs": [],
   "source": [
    "plot.interactive_peak_wavelength(blackbody_radiation, peak_wavelength)"
   ]
  },
  {
   "cell_type": "markdown",
   "metadata": {},
   "source": [
    "#### The Visible Light Spectrum"
   ]
  },
  {
   "cell_type": "code",
   "execution_count": null,
   "metadata": {},
   "outputs": [],
   "source": [
    "plot.visibile_wavelengths()"
   ]
  },
  {
   "cell_type": "markdown",
   "metadata": {},
   "source": [
    "##### Think and Reflect:\n",
    "1. What happens to the peak wavelength when the temperature is decreased? How might this affect the appearance of a star as it cools down?\n",
    "2. Can you think of everyday examples where changes in temperature lead to changes in color similar to those described by Wien's Law?"
   ]
  },
  {
   "cell_type": "markdown",
   "metadata": {},
   "source": [
    "## Expansion of the Universe"
   ]
  },
  {
   "cell_type": "markdown",
   "metadata": {},
   "source": [
    "### Redshift and the Doppler Effect"
   ]
  },
  {
   "cell_type": "code",
   "execution_count": null,
   "metadata": {},
   "outputs": [],
   "source": [
    "Video(\"media/DopplerEffect.mp4\")"
   ]
  },
  {
   "cell_type": "markdown",
   "metadata": {},
   "source": [
    "### Analyzing COBE Data Spectrum"
   ]
  },
  {
   "cell_type": "code",
   "execution_count": null,
   "metadata": {},
   "outputs": [],
   "source": [
    "#−0.04, 2.26, −42.32, 284.54, −248.09\n",
    "plot.interactive_cobe_polynomial_fit()"
   ]
  },
  {
   "cell_type": "code",
   "execution_count": null,
   "metadata": {},
   "outputs": [],
   "source": [
    "plot.cobe_coefficients_fit(None, True)"
   ]
  },
  {
   "cell_type": "code",
   "execution_count": null,
   "metadata": {},
   "outputs": [],
   "source": [
    "plot.interactive_polynomial_degree_selector()"
   ]
  },
  {
   "cell_type": "markdown",
   "metadata": {},
   "source": [
    "As we see above, the cosmic microwave background closely resembles a blackbody with a temperature of ~2.7 Kelvin (-270 Celsius). \n",
    "\n",
    "### How is it formed?\n",
    "\n",
    "According to the Big Bang Theory:\n",
    "\n",
    "The universe started as a hot and dense plasma consisting mainly of protons, electrons, neutrons, and photons(light). These free electrons strongly scattered photons, preventing them from traveling freely through space.\n",
    "\n",
    "This is a similar to shining a flashlight in a dense fog, the light will shine for a short distance before it is scattered by the fog.\n",
    "\n",
    "When the Universe expanded and cooled enough at around 3000K when the universe was approximately 379,000 years old, the free electrons and protons combined to form neutral hydrogen atoms. This is known as the peroid of Recombination. It was at this time that the Universe became transparent. In other words the fog dissapated.\n",
    "\n",
    "The CMB is essentially the \"snapshot\" of the universe at the time of recombination. The CMB are the first photons emitted from the Universe during recombination that were able to travel freely.\n",
    "\n",
    "The CMB is therefore a black-body spectrum of this afterglow!\n",
    "\n",
    "Due to the expansion of the universe however over Billions of years, the CMB light is redshifted (streched out).\n",
    "\n",
    "### How it was Discovered!\n",
    "\n",
    "The existence of the CMB radiation was first predicted by Ralph Alpherin, Robert Herman, and George Gamow 1948. They reasoned that if the Big Bang had happend, the high energy background radiation would have been stretched into the microwave range of light. It was initally predicted to be ~5k.\n",
    "\n",
    "The first measurement of the CMB was by Andrew McKellar in 1941 at measured an effective temperature of 2.3 K - at the time Mckeller did not associate his measurement with the CMB. Because of this credit is typically given to Arno Allan Penzias and Robert Woodrow Wilson for their 1964 measurements at around 3K.\n",
    "\n",
    "Penzias, and Wilson where working at a sensitive radio telescope for Bell Labs. They stumbled upon the CMB as an unknown noise artifact noise that they could not figure out how to eliminate from their data. This unknown noise artifact was evenly spread over the sky, and was present both at day time and night. They concluded it must come from outside the galaxy, it was by fluke of circumstances that they ran into Robert H. Dicke, Jim Peebles, and David Wilkinson Cosmologists who were about to search for the CMB; after a talk they published their paper jointly to avoid conflict.\n",
    "\n",
    "\n",
    "![alt](media/horn.jpg \"Title\")\n",
    "This is the Bell Labs' horn antenna. This is the radio telescope that first measured the CMB. This photo is from April 2007. Source: https://commons.wikimedia.org/wiki/File:Bell_Labs_Horn_Antenna_Crawford_Hill_NJ.jpg\n",
    "\n"
   ]
  },
  {
   "cell_type": "markdown",
   "metadata": {},
   "source": [
    "## The CMB Map\n",
    "\n",
    "Through the last few decades we have significantly improved our ability to resolve even finer features on the map. \n",
    "\n",
    "![alt text](media/cmb_progress.jpg \"Title\")\n",
    "\n",
    "Each panel showcases 10-square-degree patches of all-sky maps captured by space-based missions that have revolutionized our understanding of the universe. The left panel introduces NASA's Cosmic Background Explorer (COBE), launched in 1989, which played a pivotal role in supporting the big bang theory and revealing crucial information about the ancient state of our universe. In the middle panel, we encounter the Wilkinson Microwave Anisotropy Probe (WMAP), launched in 2001, which unraveled intricate variations in the primordial light, offering strong evidence for inflation and refining our understanding of the cosmos. Finally, on the right panel, we are introduced to Planck, the most advanced satellite to date, launched in 2009 with contributions from NASA and the European Space Agency.\n",
    "\n",
    "Source: https://photojournal.jpl.nasa.gov/catalog/PIA16874"
   ]
  },
  {
   "cell_type": "markdown",
   "metadata": {},
   "source": [
    "### The CMB & Inflation\n",
    "\n",
    "The isotropic behavior of the cosmic microwave background (CMB) played a crucial role in motivating the concept of cosmic inflation.\n",
    "\n",
    "Isotropic\" refers to a property or characteristic that remains the same in all directions. In the context of the cosmic microwave background (CMB) radiation, isotropy implies that the radiation appears uniform and exhibits the same properties regardless of the direction in which it is observed. This means that the CMB radiation has a consistent temperature and intensity when measured from different points in the sky. The isotropic nature of the CMB is a fundamental observation in cosmology and provides important insights into the early universe and its evolution.\n",
    "\n",
    "The temperature flucuations in the CMB are ~ 200 microKelvin. ($200 \\times10^{-6}$k). However, At the time of recombination, the Universe was very young only hundreds of thousands of years old.\n",
    "\n",
    "This raises an issue as there was not enough time for the Universeve to reach thermal equilibrium (unifrom temperature).\n",
    "\n",
    "This is one of the motivations the theory of cosmic inflation. Inflation is a theory of exponential expansion of space in the early universe. The inflationary epoch is believed to have lasted from $10^{−36}$ seconds to between $10^{−33}$ and $10^{-32}$ seconds after the Big Bang. This rapid expansion would explain why the CMB is highly isotropic."
   ]
  },
  {
   "cell_type": "markdown",
   "metadata": {},
   "source": [
    "### Let's play with CMB maps\n",
    "\n",
    "Now that we have learned the basics of CMB (Cosmic Microwave Background), it's time to dive into the exciting world of real CMB maps. These maps provide us with invaluable insights into the early universe and its properties. Let's explore this fascinating field together!\n",
    "\n",
    "To begin our journey, we will be using CMB maps obtained from the Planck mission. The Planck mission was a space observatory dedicated to studying the CMB and its various characteristics. Launched by the European Space Agency (ESA) in 2009, Planck operated until 2013, collecting an enormous amount of data that revolutionized our understanding of the universe's origins.\n",
    "\n",
    "![planck_cmb](media/planck_cmb.png)"
   ]
  },
  {
   "cell_type": "markdown",
   "metadata": {},
   "source": [
    "#### Loading Measurements from Planck\n",
    "\n",
    "To work with the measurements obtained from the Planck mission, we need to utilize some special software tools that are specifically designed to handle and analyze CMB data. These software packages are crucial for accessing and interpreting the wealth of information contained within Planck's measurements.\n",
    "\n",
    "In order to work with measurements from the Planck mission, we often need to utilize these specific software tools that are tailored for handling CMB data. However, navigating through these tools involves dealing with a lot of technicalities and intricacies, which may not be particularly interesting for everyone. To make things easier for you, we have provided some functions for you that simplify the process.\n",
    "\n",
    "To get started, we have already downloaded some Planck maps for you. Now, let's proceed to load these maps using the load_cmb_map function provided by the cmb library. This function effortlessly import the Planck maps into our notebook environment. We will then use view_map function to visualize it.\n"
   ]
  },
  {
   "cell_type": "code",
   "execution_count": null,
   "metadata": {},
   "outputs": [],
   "source": [
    "# load a map that we have pre-downloaded for you\n",
    "from cmb import cmb_utils\n",
    "cmb_map = cmb_utils.load_cmb_map(\"data/COM_CMB_IQU-commander_1024_R2.02_dg16_car.fits\")\n",
    "\n",
    "# use a provided function to view the cmb map\n",
    "cmb_utils.view_map(cmb_map)"
   ]
  },
  {
   "cell_type": "markdown",
   "metadata": {},
   "source": [
    "\n",
    "\n",
    "When we visualize a three-dimensional object like a sphere on a two-dimensional surface, such as an image, a distortion effect occurs at the top and bottom portions of the image.\n",
    "\n",
    "This distortion arises due to the challenge of representing a curved surface onto a flat plane.\n",
    "\n",
    "One most interesting aspect of the CMB map is the fluctuation we see across the entire sky. Although they may seem random, they are of profound importance as they provide valuable insights into the early universe.\n",
    "\n",
    "To begin our analysis, let's get a sense of how much the CMB temperature is fluctuating on the sky by computing the standard deviation of the CMB map. This statistical measure will quantify the magnitude of temperature fluctuations present in the map.\n",
    "\n",
    "Exercise: compute standard deviation of the CMB map\n",
    "\n",
    "hint: use the np.std function: see documentation here: https://numpy.org/doc/stable/reference/generated/numpy.std.html\n"
   ]
  },
  {
   "cell_type": "markdown",
   "metadata": {},
   "source": [
    "exercise: compute the standard deviation of the map"
   ]
  },
  {
   "cell_type": "markdown",
   "metadata": {},
   "source": [
    " The number you got is in unit of Kelvin. How small is the fluctuations you got? How many times is it smaller than the average temperature of the CMB (take 2.7 K for the CMB temperature)? "
   ]
  },
  {
   "cell_type": "markdown",
   "metadata": {},
   "source": [
    "exercise: how does it compare with the mean CMB temperature?"
   ]
  },
  {
   "cell_type": "markdown",
   "metadata": {},
   "source": [
    "the CMB map is remarkably uniform, with fluctuations roughly hundred-thousand times smaller than the mean! It is a remarkable achievement that we can even measure this tiny fluctuations.\n",
    "\n",
    "Why are these temperature fluctuations interesting? They represent minute density variations that existed in the early universe, which is the seed of all the structure of our present universe that we see today."
   ]
  },
  {
   "cell_type": "markdown",
   "metadata": {},
   "source": [
    "## What's on the map\n",
    "\n",
    "To enhance our understanding and visual exploration of the CMB map, we will utilize an interactive tool available at this website: https://phy-act1.princeton.edu/public/snaess/actpol/dr5/atlas/.\n",
    "\n",
    "**Exercise: see if you can identify different types of objects in the map**\n",
    "\n",
    "Overall, we can observe several types of features within the CMB map.\n",
    "\n",
    "1. Hot Spots/Cold Spots:\n",
    "First we notice the regions of both hot and cold spots. These temperature variations arise from the density fluctuations in the early universe. These fluctuations are remnants of the quantum fluctuations during the cosmic inflation era, which have evolved over billions of years into the structures we see today.\n",
    "\n",
    "2. Stars:\n",
    "While observing the CMB map, we may come across small point-like features that resemble stars. In fact, many of them are stars in our galaxy and they become visible by blocking the CMB light.\n",
    "\n",
    "3. Galaxies:\n",
    "The CMB map also contains signals from distant galaxies. These signals are typically observed as extended patches or structures embedded within the CMB map.\n",
    "\n",
    "4. Galaxy Clusters:\n",
    "Another fascinating feature that can be observed in the CMB map is galaxy clusters which are a huge assembly of galaxies and dark matter pulled together by gravitational force. They manifest as distinctive cold dot-like spots in the CMB map. This intriguing characteristic arises due to an effect known as Sunyaev-Zel'dovich effect. As the CMB radiation passes through the hot gas present within galaxy clusters, it gets a energetic kick which shifts the CMB radiations to a slightly different frequency, and consequently, these photons are \"missing\" from the CMB map, appearing as cold spots.\n",
    "\n",
    "5. Milky Way Galaxy:\n",
    "In the CMB map, we may also notice a large, prominent feature that corresponds to our own Milky Way galaxy. The Milky Way emits various forms of radiation that can contaminate the CMB signal. It appears as a distinctive pattern, sometimes referred to as the \"Galactic Plane,\" spanning across the CMB map. Care must be taken to account for and mitigate the Milky Way's contributions when studying the cosmic microwave background.\n",
    "\n",
    "The formation of cold and hot spots in the cosmic microwave background (CMB) map can be attributed to the interplay between radiation pressure and gravity during the early universe. Slight density variations caused variations in radiation pressure, leading to sound waves propagating through the gas. At around 400,000 years after the Big Bang, the interaction between matter and radiation significantly reduces, resulting in the pressure wave being nearly frozen, with a size of approximately 150 megaparsecs.\n"
   ]
  },
  {
   "cell_type": "markdown",
   "metadata": {},
   "source": [
    "### Estimate the distance of the moon\n",
    "\n",
    "To estimate the age of the universe using the CMB map, we can employ a methodology similar to determining the distance of the moon. Let's walk through how to do that now.\n",
    "\n",
    "Let's suppose that we already know the physical size (diameter) of the moon to be 3,474 km, and we can easily measure the angular size (diameter) of the moon on the sky to be 0.52 deg. How do we estimate the distance of moon to us? Recall the formula for an arc-length\n",
    "\n",
    "![arclengh](media/arclength.png)\n",
    "\n",
    "Therefore, we have\n",
    "$$\\text{distance to the moon} = \\frac{\\text{physical diameter of the moon}}{\\text{angular size subtended by the moon}}$$\n",
    "\n",
    "**Exercise**: work out the distance to the moon, and how long does it take light to reach the moon from the Earth?"
   ]
  },
  {
   "cell_type": "markdown",
   "metadata": {},
   "source": [
    "In the context of the CMB, the hot and cold spots are a result of primordial \"sound\" waves generated by the interplay of gravity and radiation pressure. At approximately 300,000 years after the Big Bang, the CMB light becomes independent from the other primordial components of the universe. During this relatively brief period, the primordial \"sound\" waves have only 300,000 years to propagate, leading to the formation of a pattern with a consistent physical size, determined by the sound speed. This physical size constraint is referred to as the \"sound horizon\" and is calculated to be approximately 150 Mpc.\n",
    "\n",
    "Having established the sound horizon's physical size, our next step is to measure the apparent size of each hot spot in the CMB maps. By doing so, we can then estimate the distance the CMB light has traversed to reach us. With the known speed of light, we can calculate the time it took for the light to reach us, providing a close approximation of the age of the universe.\n",
    "\n",
    "Let's do it now!"
   ]
  },
  {
   "cell_type": "markdown",
   "metadata": {},
   "source": [
    "**Exercise: find hot spots coordinates**\n",
    "\n",
    "- Use the visualizer to identify at least 20 CMB hot spots: recall what we discussed earlier about what is on the CMB, try to avoid the galaxy, stars, etc.\n",
    "- Record down the coordinates of each hot spots in the list below"
   ]
  },
  {
   "cell_type": "code",
   "execution_count": null,
   "metadata": {},
   "outputs": [],
   "source": [
    "coords = np.array([\n",
    "    [-46.266, -25.65],\n",
    "    [-40.525, -21.99],\n",
    "    # similarly fill up more hot spots you identified below!\n",
    "\n",
    "])"
   ]
  },
  {
   "cell_type": "code",
   "execution_count": null,
   "metadata": {},
   "outputs": [],
   "source": [
    "thumbnails = cmb_utils.extract_thumbnails(cmb_map, coords)\n",
    "cmb_utils.plot_thumbnails(thumbnails, figsize=(10,6))"
   ]
  },
  {
   "cell_type": "markdown",
   "metadata": {},
   "source": [
    "If you are doing a good job at finding hot spots, you should find the maximum roughly at the center of each image, if it doesn't look very good, you can reiterate your hot spots selection or measurements.\n",
    "\n",
    "As you can see, each of the snapshot look random, but we can average all these snapshots to get a better view less affected by noise in each snapshot.\n",
    "\n",
    "**Exercise: average the thumbnails together to obtain a mean estimate**\n",
    "\n",
    "hint: use `np.mean` function, and pay attention to the `axis` parameter."
   ]
  },
  {
   "cell_type": "code",
   "execution_count": null,
   "metadata": {},
   "outputs": [],
   "source": [
    "# find mean thumbnail\n",
    "mean_img = # fill up your code\n",
    "\n",
    "# now we can visualize your mean thumbnail using a library that has been provided\n",
    "cmb_utils.view_map(mean_img)"
   ]
  },
  {
   "cell_type": "markdown",
   "metadata": {},
   "source": [
    "\n",
    "\n",
    "Here you see a much better image with a clear characteristic size!\n",
    "\n",
    "We know the rough physical size of the hot spot to be around 150 Mpc, now we will measure the angular size of the hot spot, with which we can then work out the distance that the CMB photons have traveled.\n",
    "\n",
    "Now we have a image to work with, see if you could give a rough estimate on how large the average hot spot is?\n",
    "\n",
    "**Exercise**: give a rough estimate of the angular size of the hot spot\n",
    "\n",
    "hint: try taking a slice of your mean_img.\n"
   ]
  },
  {
   "cell_type": "code",
   "execution_count": null,
   "metadata": {},
   "outputs": [],
   "source": [
    "# your code goes here"
   ]
  },
  {
   "cell_type": "markdown",
   "metadata": {},
   "source": [
    "Now let's try to do it more precisely using a function that we have provided, the extract_profile. It will try to take an average profile among all directions. This function returns a radius and a profile."
   ]
  },
  {
   "cell_type": "code",
   "execution_count": null,
   "metadata": {},
   "outputs": [],
   "source": [
    "radius, profile = cmb_utils.extract_profile(mean_img)\n"
   ]
  },
  {
   "cell_type": "markdown",
   "metadata": {},
   "source": [
    "**exercise**: plot profile"
   ]
  },
  {
   "cell_type": "code",
   "execution_count": null,
   "metadata": {},
   "outputs": [],
   "source": [
    "# exercise\n",
    "plt.plot(<<< radius >>>, <<< profile >>>, color = <<< colour>>>) # add code in parenthesis\n",
    "plt.xlabel(\"r [deg]\")  # add axis labels\n",
    "plt.ylabel(\"T [\\$mu$K]\")"
   ]
  },
  {
   "cell_type": "markdown",
   "metadata": {},
   "source": [
    "**Exercise: As a rough approximation, let's measure the size of the hot spot as the radius at which the hot spot's maximum value drops to around 30% of its value.**\n",
    "\n",
    "hint: A trivial way to measure this is to see when the difference between the profile and 30% of its maximum (`np.max`) goes from positive to negative. A more advanced way to measure is through `np.where` function: https://numpy.org/doc/stable/reference/generated/numpy.where.html. "
   ]
  },
  {
   "cell_type": "code",
   "execution_count": null,
   "metadata": {},
   "outputs": [],
   "source": [
    "# find the radias when the profile drops to 30% of its maximum\n",
    "# your code goes here"
   ]
  },
  {
   "cell_type": "markdown",
   "metadata": {},
   "source": [
    "Now we have measured the approximate angular radius of the CMB hot spot on the sky, and we know from physics that they correspond to a physical size of around 150 megaparsecs (Mpc). Let's repeat what we did for the Moon here to find out the distance that CMB light has traveled from its source to us.\n",
    "\n",
    "**Exercise: find the distance that CMB light has traveled to reach us following the moon example**\n",
    "\n",
    "hint: be sure to convert degree to radius first (see for example `np.deg2rad` function)"
   ]
  },
  {
   "cell_type": "code",
   "execution_count": null,
   "metadata": {},
   "outputs": [],
   "source": [
    "# your code goes here\n",
    "\n",
    "theta = 0.605  # student fill-in\n",
    "physical_size = 150 # Mpc\n",
    "distance = physical_size / (theta / 180 * np.pi)\n",
    "print(f\"Distance that CMB light has traveled: {distance} Mpc\")"
   ]
  },
  {
   "cell_type": "markdown",
   "metadata": {},
   "source": [
    "Now we know the distance, \n",
    "\n",
    "**Exercise: how long does it take for light to traverse this distance?**\n",
    "\n",
    "Let's use the fact that light travels at a speed of $3.06\\times 10^{-7}$ Mpc / yr."
   ]
  },
  {
   "cell_type": "code",
   "execution_count": null,
   "metadata": {},
   "outputs": [],
   "source": [
    "# your code goes here\n",
    "# \n",
    "v = 3.06e-7\n",
    "time_traveled = (distance / v) / 1e9  # in billion years\n",
    "print(f\"Time traveled by CMB light if it travels at speed of light: {time_traveled} Gyr\")"
   ]
  },
  {
   "cell_type": "markdown",
   "metadata": {},
   "source": [
    "Compare the answer to what you have obtained in global cluster notebook, how close they are and what do you think about the result?\n",
    "\n",
    "![expanding_sphere](media/expanding_sphere.png)"
   ]
  },
  {
   "cell_type": "markdown",
   "metadata": {},
   "source": [
    "  - Neglected to consider the expansion of universe: we have assumed the universe didn't expand\n",
    "  - When the universe is much smaller, the distance traveled by light relative to the distance between two objects are much larger in a fixed period\n",
    "    - use a balloon as an example, if an ant is climbing on a balloon at a fixed speed, if the balloon is very small, the ant can quickly travel from pole to pole, but if the balloon is inflated, it will take the ant much longer.\n",
    "    - therefore, it's important to take account of the expansion rate of the universe when calculating the time it takes for CMB light to traverse a given distance.\n",
    "- Calculate it accurately requires calculus as the expansion rate is constantly changing and the universe is composed of different components that behave differently when the universe expands, to avoid the complexity we provide an interactive tool below:\n",
    "\n",
    "use billion year"
   ]
  },
  {
   "cell_type": "code",
   "execution_count": null,
   "metadata": {},
   "outputs": [],
   "source": [
    "cmb_utils.measure_distance()"
   ]
  }
 ],
 "metadata": {
  "kernelspec": {
   "display_name": "astro",
   "language": "python",
   "name": "python3"
  },
  "language_info": {
   "codemirror_mode": {
    "name": "ipython",
    "version": 3
   },
   "file_extension": ".py",
   "mimetype": "text/x-python",
   "name": "python",
   "nbconvert_exporter": "python",
   "pygments_lexer": "ipython3",
   "version": "3.10.12"
  }
 },
 "nbformat": 4,
 "nbformat_minor": 2
}
