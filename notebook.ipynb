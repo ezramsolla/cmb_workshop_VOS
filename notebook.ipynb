{
 "cells": [
  {
   "cell_type": "code",
   "execution_count": 3,
   "metadata": {},
   "outputs": [
    {
     "data": {
      "text/plain": [
       "<Figure size 2000x1000 with 0 Axes>"
      ]
     },
     "metadata": {},
     "output_type": "display_data"
    }
   ],
   "source": [
    "import numpy as np\n",
    "import matplotlib.pyplot as plt\n",
    "\n",
    "from astropy.visualization import astropy_mpl_style\n",
    "plt.style.use(astropy_mpl_style)\n",
    "\n",
    "%reload_ext autoreload\n",
    "%autoreload 2\n",
    "\n",
    "# Global settings for plots\n",
    "\n",
    "# Set global figure size\n",
    "plt.rcParams['figure.figsize'] = [20, 10]\n",
    "\n",
    "# Set the global default figure facecolor to white\n",
    "plt.rcParams['figure.facecolor'] = 'white'\n",
    "\n",
    "# Set global font size\n",
    "plt.rcParams['font.size'] = 16\n",
    "plt.rcParams['axes.labelsize'] = 20\n",
    "plt.rcParams['xtick.labelsize'] = 20\n",
    "plt.rcParams['ytick.labelsize'] = 20\n",
    "#mpl.rcParams['legend.fontsize'] = 'large'\n",
    "\n",
    "# Set the default legend marker size globally\n",
    "plt.rcParams['legend.markerscale'] = 2\n",
    "\n",
    "# Increase title to plot distance\n",
    "plt.rcParams['axes.titley'] = 1.05\n",
    "\n",
    "# Set the colormap globally\n",
    "plt.set_cmap('cividis')\n",
    "\n",
    "# Set the color cycle to include 10 easily distinguishable colors\n",
    "plt.style.use('tableau-colorblind10')"
   ]
  },
  {
   "cell_type": "markdown",
   "metadata": {},
   "source": [
    "### Introduction to Black Body Radiation with Planck's Law\n",
    "\n",
    "Black body radiation is a fundamental concept in physics that describes the spectrum of light emitted by an idealized, perfect emitter of radiation. This theoretical construct, known as a \"black body,\" absorbs all incident electromagnetic radiation, regardless of frequency or angle, and re-emits it in a characteristic spectrum that depends only on the body's temperature. This phenomenon is critical in various fields, including astrophysics, where it helps in understanding celestial objects' thermal properties and the Cosmic Microwave Background (CMB).\n",
    "\n",
    "The spectral radiance of a black body, which is the power emitted per unit area per unit solid angle per unit wavelength, can be quantitatively described by Planck's law. Expressed in terms of wavelength ($\\lambda$) and in SI units, Planck's law is given by:\n",
    "\n",
    "$B(\\lambda, T) = \\frac{2hc^2}{\\lambda^5} \\frac{1}{\\exp\\left(\\frac{hc}{\\lambda kT}\\right) - 1}$\n",
    "\n",
    "\n",
    "with the spectral radiance $B(\\lambda, T)$ given in units of $W \\cdot m^{-2} \\cdot sr^{-1} \\cdot m^{-1}$. Here:\n",
    "* $h$ is the Planck constant ($6.626 \\times 10^{-34}$ J s)\n",
    "* $c$ is the speed of light in a vacuum ($3.00 \\times 10^8$ m/s)\n",
    "* $k$ is the Boltzmann constant ($1.381 \\times 10^{-23}$ J/K)\n",
    "* $T$ is the absolute temperature of the black body in Kelvin (K)\n",
    "* $\\lambda$ is the wavelength in meters (m)."
   ]
  },
  {
   "cell_type": "markdown",
   "metadata": {},
   "source": [
    "##### Optional Challenge: Write your own implementation of Planck's Law:"
   ]
  },
  {
   "cell_type": "code",
   "execution_count": 10,
   "metadata": {},
   "outputs": [],
   "source": [
    "# TODO: consider adding a warm-up exercise about Python calculations: exponents, division, etc\n",
    "\n",
    "def blackbody_radiation_law(wavelength, temp):\n",
    "    \"\"\"\n",
    "    Your implementation of the black body radiation law equation using wavelength in meters.\n",
    "    \n",
    "    Parameters:\n",
    "    - wavelength: Wavelength of the radiation (in meters).\n",
    "    - temp: Temperature of the black body (in Kelvin).\n",
    "    \n",
    "    Returns:\n",
    "    - Spectral radiance of the black body (in W/m^2/sr/nm). Return None by default as a placeholder.\n",
    "    \"\"\"\n",
    "    # Reminder of the Planck's law formula in SI units:\n",
    "    # B(lambda, T) = (2hc^2 / lambda^5) * 1 / (exp(hc / (lambda kT)) - 1)\n",
    "    # where h = 6.626e-34 (J·s), c = 3e8 (m/s), k = 1.381e-23 (J/K),\n",
    "    # lambda is in meters, and T is in Kelvin.\n",
    "\n",
    "    # Your implementation here.\n",
    "\n",
    "    # Remember to return your calculated spectral radiance.\n",
    "    return None"
   ]
  },
  {
   "cell_type": "code",
   "execution_count": 12,
   "metadata": {},
   "outputs": [
    {
     "name": "stdout",
     "output_type": "stream",
     "text": [
      "Scenario Visible light, approx. sun's surface temp failed:\n",
      "Wavelength=5e-07 m and temperature=5778 K.\n",
      "Expected result was close to 2.64e+13 W/m^2/sr/m, but got 1.00e+00.\n",
      "\n",
      "Scenario Microwave, approx. CMB temp failed:\n",
      "Wavelength=0.001 m and temperature=2.725 K.\n",
      "Expected result was close to 6.10e-04 W/m^2/sr/m, but got 1.00e+00.\n"
     ]
    }
   ],
   "source": [
    "from cmb.blackbody_tester import test_blackbody_radiation_law\n",
    "\n",
    "# Test the student's function\n",
    "print(test_blackbody_radiation_law(blackbody_radiation_law))\n"
   ]
  },
  {
   "cell_type": "markdown",
   "metadata": {},
   "source": [
    "#### Visualizing the Black Body Radiation"
   ]
  },
  {
   "cell_type": "code",
   "execution_count": 6,
   "metadata": {},
   "outputs": [
    {
     "data": {
      "application/vnd.jupyter.widget-view+json": {
       "model_id": "00612d3a5a2c40f8b941c374af1f66c7",
       "version_major": 2,
       "version_minor": 0
      },
      "text/plain": [
       "interactive(children=(FloatSlider(value=5778.0, description='Temp (K):', max=10000.0, min=1000.0, readout_form…"
      ]
     },
     "metadata": {},
     "output_type": "display_data"
    }
   ],
   "source": [
    "from cmb import plot\n",
    "\n",
    "wavelengths = np.linspace(100e-9, 2000e-9, 100) # 100 points from 100 nm to 2000 nm\n",
    "\n",
    "# TODO: add a dropdown for reference values instead of hardcoding the Sun\n",
    "plot.interactive_blackbody_radiation(wavelengths, blackbody_radiation_law)"
   ]
  },
  {
   "cell_type": "markdown",
   "metadata": {},
   "source": [
    "##### Think and Reflect:\n",
    "1. What changes do you notice in the curve when the temperature is increased? \n",
    "2. How about when it is decreased?"
   ]
  },
  {
   "cell_type": "markdown",
   "metadata": {},
   "source": [
    "### Introduction to Wien's Law\n",
    "\n",
    "After exploring the black body radiation curves, you've seen how the peak of the radiation curve shifts with changes in temperature. This movement isn't random; it's described by Wien's Displacement Law. Wien's Law tells us the wavelength at which the radiation from a black body (like a star, including our Sun) is most intense, and this wavelength is inversely related to the temperature of the body.\n",
    "\n",
    "#### Wien's Displacement Law\n",
    "\n",
    "Wien's Law can be stated mathematically as:\n",
    "\n",
    "$\\lambda_{\\text{max}} = \\frac{b}{T}$\n",
    "\n",
    "where:\n",
    "- $\\lambda_{\\text{max}}$ is the peak wavelength — the wavelength at which the emission is strongest,\n",
    "- $T$ is the absolute temperature of the black body (in Kelvin),\n",
    "- $b$ is Wien's displacement constant, approximately $2.897 \\times 10^{-3}$ m·K (meter-Kelvin).\n",
    "\n",
    "This law reveals an important insight: as a black body gets hotter, its peak emission shifts to shorter wavelengths. This is why, for example, a heating metal glows red and then white as its temperature increases.\n",
    "\n",
    "#### Practical Implication\n",
    "\n",
    "In astronomy, Wien's Law enables us to determine the surface temperature of stars by observing the color of the light they emit. A star emitting peak radiation at shorter wavelengths (more towards the blue end of the spectrum) is hotter than a star emitting peak radiation at longer wavelengths (more towards the red end of the spectrum).\n",
    "\n",
    "#### Optional Challenge: Implementing Wien's Law\n",
    "\n",
    "Let’s implement Wien's Law to calculate the peak wavelength for a given temperature."
   ]
  },
  {
   "cell_type": "code",
   "execution_count": 7,
   "metadata": {},
   "outputs": [],
   "source": [
    "def calculate_peak_wavelength(temp):\n",
    "    \"\"\"\n",
    "    Your implementation of Wien's Law to calculate the peak wavelength.\n",
    "    \n",
    "    Parameters:\n",
    "    - temp: The absolute temperature of the black body (in Kelvin).\n",
    "    \n",
    "    Returns:\n",
    "    - The peak wavelength (in meters). Return None by default as a placeholder.\n",
    "    \"\"\"\n",
    "    # Reminder the Wien's displacement constant is:\n",
    "    # b = 2.897e-3  (meter-Kelvin)\n",
    "\n",
    "    # Your implementation here.\n",
    "\n",
    "    # Remember to return your calculated peak wavelength\n",
    "    return None\n"
   ]
  }
 ],
 "metadata": {
  "kernelspec": {
   "display_name": "astro",
   "language": "python",
   "name": "python3"
  },
  "language_info": {
   "codemirror_mode": {
    "name": "ipython",
    "version": 3
   },
   "file_extension": ".py",
   "mimetype": "text/x-python",
   "name": "python",
   "nbconvert_exporter": "python",
   "pygments_lexer": "ipython3",
   "version": "3.11.6"
  }
 },
 "nbformat": 4,
 "nbformat_minor": 2
}
